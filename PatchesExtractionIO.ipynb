{
 "cells": [
  {
   "cell_type": "code",
   "execution_count": 1,
   "id": "71191ed8",
   "metadata": {},
   "outputs": [],
   "source": [
    "import os\n",
    "from osgeo import gdal\n",
    "from osgeo import ogr\n",
    "from osgeo import osr\n",
    "from osgeo import gdal_array\n",
    "from osgeo import gdalconst\n",
    "import matplotlib.pyplot as plt\n",
    "import numpy as np\n",
    "#%matplotlib notebook\n",
    "#from google.colab import drive"
   ]
  },
  {
   "cell_type": "markdown",
   "id": "f053277f",
   "metadata": {},
   "source": [
    "## LOAD S2 BANDS"
   ]
  },
  {
   "cell_type": "code",
   "execution_count": 2,
   "id": "37247146",
   "metadata": {},
   "outputs": [],
   "source": [
    "dataset=gdal.Open('Data/Nagar/Nagar_composite_S2_7bands.tif',gdal.GA_ReadOnly)"
   ]
  },
  {
   "cell_type": "code",
   "execution_count": 3,
   "id": "3c09a1c1",
   "metadata": {},
   "outputs": [
    {
     "data": {
      "text/plain": [
       "<matplotlib.image.AxesImage at 0x288fa167700>"
      ]
     },
     "execution_count": 3,
     "metadata": {},
     "output_type": "execute_result"
    },
    {
     "data": {
      "image/png": "[encoded data removed]",
      "text/plain": [
       "<Figure size 432x288 with 1 Axes>"
      ]
     },
     "metadata": {
      "needs_background": "light"
     },
     "output_type": "display_data"
    }
   ],
   "source": [
    "band = dataset.GetRasterBand(7)\n",
    "arr = band.ReadAsArray()\n",
    "plt.imshow(arr)"
   ]
  },
  {
   "cell_type": "code",
   "execution_count": 4,
   "id": "64f92b67",
   "metadata": {},
   "outputs": [
    {
     "data": {
      "text/plain": [
       "{0.0: 3234649, 255.0: 4623}"
      ]
     },
     "execution_count": 4,
     "metadata": {},
     "output_type": "execute_result"
    }
   ],
   "source": [
    "unique, counts = np.unique(arr, return_counts=True)\n",
    "dict(zip(unique, counts))\n"
   ]
  },
  {
   "cell_type": "code",
   "execution_count": 5,
   "id": "6bdef074",
   "metadata": {},
   "outputs": [],
   "source": [
    "sizeX=32\n",
    "sizeY=32"
   ]
  },
  {
   "cell_type": "code",
   "execution_count": 6,
   "id": "3eea2359",
   "metadata": {},
   "outputs": [],
   "source": [
    "bandList=[]\n",
    "for i in range (1,8):\n",
    "    band = dataset.GetRasterBand(i)\n",
    "    arr = band.ReadAsArray()\n",
    "    ## drop some portion of the region\n",
    "    #l=list(range(800,arr.shape[0]))\n",
    "    #arr=np.delete(arr,l,0)\n",
    "    #l=list(range(0,370))\n",
    "    #arr=np.delete(arr,l,1)\n",
    "    #l=list(range(900,arr.shape[1]))\n",
    "    #arr=np.delete(arr,l,1)\n",
    "    \n",
    "    row=arr.shape[0]-(int(arr.shape[0]/sizeX)*sizeX)\n",
    "    col=arr.shape[1]-(int(arr.shape[1]/sizeY)*sizeY)\n",
    "    l=list(range(arr.shape[0]-row,arr.shape[0]))\n",
    "    x=np.delete(arr,l,0)\n",
    "    l=list(range(arr.shape[1]-col,arr.shape[1]))\n",
    "    x=np.delete(x,l,1)\n",
    "    \n",
    "    arr=x\n",
    "    bandList.append(arr)"
   ]
  },
  {
   "cell_type": "code",
   "execution_count": 7,
   "id": "edf8d280",
   "metadata": {},
   "outputs": [
    {
     "data": {
      "image/png": "[encoded data removed]",
      "text/plain": [
       "<Figure size 432x288 with 1 Axes>"
      ]
     },
     "metadata": {
      "needs_background": "light"
     },
     "output_type": "display_data"
    }
   ],
   "source": [
    "plt.imshow(bandList[6])\n",
    "arr=bandList[6]"
   ]
  },
  {
   "cell_type": "code",
   "execution_count": 8,
   "id": "4de51bf6",
   "metadata": {},
   "outputs": [
    {
     "data": {
      "text/plain": [
       "<matplotlib.image.AxesImage at 0x28883426c10>"
      ]
     },
     "execution_count": 8,
     "metadata": {},
     "output_type": "execute_result"
    },
    {
     "data": {
      "image/png": "[encoded data removed]",
      "text/plain": [
       "<Figure size 432x288 with 1 Axes>"
      ]
     },
     "metadata": {
      "needs_background": "light"
     },
     "output_type": "display_data"
    }
   ],
   "source": [
    "multiDimArray=np.zeros((arr.shape[0],arr.shape[1],8))\n",
    "for i in range (1,8):\n",
    "    band=dataset.GetRasterBand(i)\n",
    "    arr=band.ReadAsArray()\n",
    "    ## drop some portion of the region\n",
    "    #l=list(range(800,arr.shape[0]))\n",
    "    #arr=np.delete(arr,l,0)\n",
    "    #l=list(range(0,370))\n",
    "    #arr=np.delete(arr,l,1)\n",
    "    #l=list(range(900,arr.shape[1]))\n",
    "    #arr=np.delete(arr,l,1)\n",
    "    \n",
    "    ## Making size of tiff divisible by 32\n",
    "    row=arr.shape[0]-(int(arr.shape[0]/sizeX)*sizeX)\n",
    "    col=arr.shape[1]-(int(arr.shape[1]/sizeY)*sizeY)\n",
    "    l=list(range(arr.shape[0]-row,arr.shape[0]))\n",
    "    x=np.delete(arr,l,0)\n",
    "    l=list(range(arr.shape[1]-col,arr.shape[1]))\n",
    "    x=np.delete(x,l,1)\n",
    "    if i==7: ## Last band has to be binary\n",
    "        x = ((x - x.min()) * (1/(x.max() - x.min()))).astype('uint8')    \n",
    "    #x = ((x - x.min()) * (1/(x.max() - x.min()))).astype('uint8')\n",
    "    \n",
    "    arr=x\n",
    "    multiDimArray[:,:,i-1]=arr\n",
    "plt.imshow(multiDimArray[:,:,6])    "
   ]
  },
  {
   "cell_type": "code",
   "execution_count": 10,
   "id": "22a369a5",
   "metadata": {},
   "outputs": [],
   "source": [
    "indices_one = multiDimArray[:,:,6] == 1\n",
    "indices_zero = multiDimArray[:,:,6] == 0\n",
    "multiDimArray[:,:,7][indices_one] = 0 # replacing 1s with 0s\n",
    "multiDimArray[:,:,7][indices_zero] = 1 # replacing 0s with 1s\n"
   ]
  },
  {
   "cell_type": "code",
   "execution_count": 11,
   "id": "88a5acd3",
   "metadata": {},
   "outputs": [
    {
     "data": {
      "text/plain": [
       "<matplotlib.image.AxesImage at 0x2888348cc40>"
      ]
     },
     "execution_count": 11,
     "metadata": {},
     "output_type": "execute_result"
    },
    {
     "data": {
      "image/png": "[encoded data removed]",
      "text/plain": [
       "<Figure size 432x288 with 1 Axes>"
      ]
     },
     "metadata": {
      "needs_background": "light"
     },
     "output_type": "display_data"
    }
   ],
   "source": [
    "plt.imshow(multiDimArray[:,:,6])"
   ]
  },
  {
   "cell_type": "code",
   "execution_count": 12,
   "id": "0ed83b88",
   "metadata": {},
   "outputs": [
    {
     "data": {
      "text/plain": [
       "<matplotlib.image.AxesImage at 0x28883b1c640>"
      ]
     },
     "execution_count": 12,
     "metadata": {},
     "output_type": "execute_result"
    },
    {
     "data": {
      "image/png": "[encoded data removed]",
      "text/plain": [
       "<Figure size 432x288 with 1 Axes>"
      ]
     },
     "metadata": {
      "needs_background": "light"
     },
     "output_type": "display_data"
    }
   ],
   "source": [
    "plt.imshow( multiDimArray[:,:,7])"
   ]
  },
  {
   "cell_type": "code",
   "execution_count": 9,
   "id": "68c89f66",
   "metadata": {},
   "outputs": [
    {
     "data": {
      "text/plain": [
       "array([0., 1.])"
      ]
     },
     "execution_count": 9,
     "metadata": {},
     "output_type": "execute_result"
    }
   ],
   "source": [
    "np.unique(multiDimArray[:,:,6])"
   ]
  },
  {
   "cell_type": "code",
   "execution_count": 13,
   "id": "dc3c491a",
   "metadata": {},
   "outputs": [
    {
     "data": {
      "text/plain": [
       "array([0., 1.])"
      ]
     },
     "execution_count": 13,
     "metadata": {},
     "output_type": "execute_result"
    }
   ],
   "source": [
    "np.unique(multiDimArray[:,:,7])"
   ]
  },
  {
   "cell_type": "markdown",
   "id": "a3fcdb94",
   "metadata": {},
   "source": [
    "## Patching"
   ]
  },
  {
   "cell_type": "code",
   "execution_count": 14,
   "id": "6a5383aa",
   "metadata": {},
   "outputs": [],
   "source": [
    "from sklearn.feature_extraction import image\n",
    "import cv2"
   ]
  },
  {
   "cell_type": "code",
   "execution_count": 15,
   "id": "949ba569",
   "metadata": {},
   "outputs": [
    {
     "data": {
      "text/plain": [
       "(1888, 1664, 8)"
      ]
     },
     "execution_count": 15,
     "metadata": {},
     "output_type": "execute_result"
    }
   ],
   "source": [
    "multiDimArray.shape"
   ]
  },
  {
   "cell_type": "code",
   "execution_count": 17,
   "id": "e5b8a2ea",
   "metadata": {},
   "outputs": [
    {
     "data": {
      "text/plain": [
       "<matplotlib.image.AxesImage at 0x288813a29d0>"
      ]
     },
     "execution_count": 17,
     "metadata": {},
     "output_type": "execute_result"
    },
    {
     "data": {
      "image/png": "[encoded data removed]",
      "text/plain": [
       "<Figure size 432x288 with 1 Axes>"
      ]
     },
     "metadata": {
      "needs_background": "light"
     },
     "output_type": "display_data"
    }
   ],
   "source": [
    "X=multiDimArray\n",
    "plt.imshow(X[:,:,7])"
   ]
  },
  {
   "cell_type": "code",
   "execution_count": 18,
   "id": "29ca060d",
   "metadata": {},
   "outputs": [],
   "source": [
    "patchH=sizeX\n",
    "patchW=sizeY"
   ]
  },
  {
   "cell_type": "code",
   "execution_count": 19,
   "id": "bf885a51",
   "metadata": {},
   "outputs": [],
   "source": [
    "def blockshaped(arr, nrows, ncols):\n",
    "    \"\"\"\n",
    "    Return an array of shape (n, nrows, ncols) where\n",
    "    n * nrows * ncols = arr.size\n",
    "\n",
    "    If arr is a 2D array, the returned array should look like n subblocks with\n",
    "    each subblock preserving the \"physical\" layout of arr.\n",
    "    \"\"\"\n",
    "    h, w = arr.shape\n",
    "    assert h % nrows == 0, f\"{h} rows is not evenly divisible by {nrows}\"\n",
    "    assert w % ncols == 0, f\"{w} cols is not evenly divisible by {ncols}\"\n",
    "    return (arr.reshape(h//nrows, nrows, -1, ncols)\n",
    "               .swapaxes(1,2)\n",
    "               .reshape(-1, nrows, ncols))"
   ]
  },
  {
   "cell_type": "code",
   "execution_count": 20,
   "id": "89668a2d",
   "metadata": {},
   "outputs": [
    {
     "data": {
      "text/plain": [
       "(1888, 1664, 8)"
      ]
     },
     "execution_count": 20,
     "metadata": {},
     "output_type": "execute_result"
    }
   ],
   "source": [
    "multiDimArray.shape"
   ]
  },
  {
   "cell_type": "code",
   "execution_count": 21,
   "id": "b13c7424",
   "metadata": {},
   "outputs": [
    {
     "data": {
      "text/plain": [
       "(3068, 32, 32)"
      ]
     },
     "execution_count": 21,
     "metadata": {},
     "output_type": "execute_result"
    }
   ],
   "source": [
    "x=blockshaped(multiDimArray[:,:,0], nrows=patchH, ncols=patchW)\n",
    "x.shape"
   ]
  },
  {
   "cell_type": "code",
   "execution_count": 22,
   "id": "7076ca8c",
   "metadata": {},
   "outputs": [],
   "source": [
    "patches=np.zeros((x.shape[0],x.shape[1],x.shape[2],8))\n",
    "j=0\n",
    "for i in range (0,8):\n",
    "    patches[:,:,:,j]=blockshaped(multiDimArray[:,:,i], nrows=patchH, ncols=patchW)\n",
    "    j=j+1   "
   ]
  },
  {
   "cell_type": "markdown",
   "id": "b8f8793d",
   "metadata": {},
   "source": [
    "## Removing uniLabel patches"
   ]
  },
  {
   "cell_type": "code",
   "execution_count": 23,
   "id": "76eee458",
   "metadata": {},
   "outputs": [],
   "source": [
    "filterPatches=[]\n",
    "for i in range (patches.shape[0]):\n",
    "    if np.unique(patches[i][:,:,6]).shape[0]==2:\n",
    "        filterPatches.append(patches[i])"
   ]
  },
  {
   "cell_type": "code",
   "execution_count": 24,
   "id": "3db291bd",
   "metadata": {},
   "outputs": [
    {
     "data": {
      "text/plain": [
       "(163, 32, 32, 8)"
      ]
     },
     "execution_count": 24,
     "metadata": {},
     "output_type": "execute_result"
    }
   ],
   "source": [
    "filterPatches=np.array(filterPatches)\n",
    "filterPatches.shape"
   ]
  },
  {
   "cell_type": "code",
   "execution_count": 25,
   "id": "1c9626b1",
   "metadata": {},
   "outputs": [
    {
     "data": {
      "image/png": "[encoded data removed]",
      "text/plain": [
       "<Figure size 576x576 with 20 Axes>"
      ]
     },
     "metadata": {
      "needs_background": "light"
     },
     "output_type": "display_data"
    }
   ],
   "source": [
    "w = 10\n",
    "h = 10\n",
    "fig = plt.figure(figsize=(8, 8))\n",
    "columns = 4\n",
    "rows = 5\n",
    "for i in range(1, columns*rows +1):\n",
    "    img = filterPatches[i-1][:,:,6]\n",
    "    fig.add_subplot(rows, columns, i)\n",
    "    plt.imshow(img)\n",
    "plt.show()"
   ]
  },
  {
   "cell_type": "code",
   "execution_count": null,
   "id": "6fcdb15e",
   "metadata": {},
   "outputs": [],
   "source": []
  }
 ],
 "metadata": {
  "kernelspec": {
   "display_name": "Python 3 (ipykernel)",
   "language": "python",
   "name": "python3"
  },
  "language_info": {
   "codemirror_mode": {
    "name": "ipython",
    "version": 3
   },
   "file_extension": ".py",
   "mimetype": "text/x-python",
   "name": "python",
   "nbconvert_exporter": "python",
   "pygments_lexer": "ipython3",
   "version": "3.9.7"
  }
 },
 "nbformat": 4,
 "nbformat_minor": 5
}
